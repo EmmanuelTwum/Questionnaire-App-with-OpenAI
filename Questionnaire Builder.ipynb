{
 "cells": [
  {
   "cell_type": "code",
   "execution_count": 2,
   "id": "52132a48-6846-4161-a449-3c5f69517e41",
   "metadata": {
    "tags": []
   },
   "outputs": [],
   "source": [
    "import openai"
   ]
  },
  {
   "cell_type": "code",
   "execution_count": 3,
   "id": "28c8f983-5324-4c62-baff-3bf13c4bc026",
   "metadata": {
    "tags": []
   },
   "outputs": [],
   "source": [
    "API_KEY = \"OPEN AI KEY\" \n",
    "openai.api_key = API_KEY\n"
   ]
  },
  {
   "cell_type": "code",
   "execution_count": 4,
   "id": "b523d8c0-f470-4443-8c06-d5b49bc502c2",
   "metadata": {
    "tags": []
   },
   "outputs": [],
   "source": [
    "context = input(\"Type your survey goal and let AI create your survey.\\nType specifically what you want to know.\")\n",
    "q_num = input(\"Number of questions\")"
   ]
  },
  {
   "cell_type": "code",
   "execution_count": 5,
   "id": "04120f36-617b-4fd7-9487-57144f55c747",
   "metadata": {
    "tags": []
   },
   "outputs": [],
   "source": [
    "def create_questionnaire(context, q_num):\n",
    "    q_prompt = f\"Create {q_num} research questions on the topic: {context}. It must be JSON formatted with question type, question and options to select.\"\n",
    "    # This is the latest model that is available.\n",
    "    model = \"gpt-3.5-turbo\"\n",
    "    response = openai.ChatCompletion.create(\n",
    "        model=model,\n",
    "        messages=[\n",
    "        # Notice how you need to specify the role of the user and system in the conversation. You need to ask for less questions at a time.\n",
    "            {\"role\": \"system\", \"content\" : \"You are the research questionnaire developer\"},\n",
    "            {\"role\": \"user\", \"content\" : q_prompt }\n",
    "        ]\n",
    "    )\n",
    "    prompt_id    = response['id']\n",
    "    created_date = response['created']\n",
    "    # write the json returned by chat-gpt api to a .json file which will need futher clean-up.\n",
    "    with open(f\"questionnaire_{prompt_id}.json\", \"w\") as f:\n",
    "        f.write(response[\"choices\"][0][\"message\"][\"content\"])"
   ]
  },
  {
   "cell_type": "code",
   "execution_count": null,
   "id": "8ff785ae-d5d6-47dc-baaf-68e3f049abe5",
   "metadata": {
    "tags": []
   },
   "outputs": [],
   "source": [
    "create_questionnaire(context, q_num)"
   ]
  },
  {
   "cell_type": "code",
   "execution_count": null,
   "id": "1c05c119",
   "metadata": {},
   "outputs": [],
   "source": []
  }
 ],
 "metadata": {
  "kernelspec": {
   "display_name": "Python 3 (ipykernel)",
   "language": "python",
   "name": "python3"
  },
  "language_info": {
   "codemirror_mode": {
    "name": "ipython",
    "version": 3
   },
   "file_extension": ".py",
   "mimetype": "text/x-python",
   "name": "python",
   "nbconvert_exporter": "python",
   "pygments_lexer": "ipython3",
   "version": "3.11.3"
  }
 },
 "nbformat": 4,
 "nbformat_minor": 5
}
